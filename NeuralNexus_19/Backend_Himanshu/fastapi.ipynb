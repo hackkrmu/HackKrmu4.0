{
 "cells": [
  {
   "cell_type": "code",
   "execution_count": 1,
   "id": "461a4a17-5e66-450d-b7c4-e36af185c037",
   "metadata": {},
   "outputs": [],
   "source": [
    "from fastapi import FastAPI\n",
    "from pydantic import BaseModel\n",
    "import sqlite3\n",
    "app = FastAPI()\n",
    "\n",
    "conn = sqlite3.connect(\"agrinexus.db\", check_same_thread=False)\n",
    "cursor = conn.cursor()\n",
    "cursor.execute(\"CREATE TABLE IF NOT EXISTS crops (id INTEGER PRIMARY KEY, name TEXT, disease TEXT, treatment TEXT)\")\n",
    "conn.commit()\n",
    "\n",
    "class CropData(BaseModel):\n",
    "    name: str\n",
    "    disease: str\n",
    "    treatment: str\n",
    "\n",
    "@app.get(\"/\")\n",
    "def home():\n",
    "    return {\"message\": \"Welcome to AgriNexus API\"}\n",
    "@app.post(\"/add_crop/\")\n",
    "def add_crop(data: CropData):\n",
    "    cursor.execute(\"INSERT INTO crops (name, disease, treatment) VALUES (?, ?, ?)\", \n",
    "                   (data.name, data.disease, data.treatment))\n",
    "    conn.commit()\n",
    "    return {\"status\": \"Crop added successfully\"}\n",
    "@app.get(\"/get_crops/\")\n",
    "def get_crops():\n",
    "    cursor.execute(\"SELECT * FROM crops\")\n",
    "    crops = cursor.fetchall()\n",
    "    return {\"data\": crops}\n"
   ]
  },
  {
   "cell_type": "code",
   "execution_count": 2,
   "id": "00f5f699-fb65-4851-aa02-c8af0cdc842b",
   "metadata": {},
   "outputs": [
    {
     "name": "stdout",
     "output_type": "stream",
     "text": [
      "Requirement already satisfied: pymysql in c:\\users\\piyush\\anaconda3\\lib\\site-packages (1.1.1)\n",
      "Note: you may need to restart the kernel to use updated packages.\n"
     ]
    }
   ],
   "source": [
    "pip install pymysql"
   ]
  },
  {
   "cell_type": "code",
   "execution_count": 4,
   "id": "5628aa80-af48-49ec-9283-5c5a50199a82",
   "metadata": {},
   "outputs": [],
   "source": [
    "import pymysql\n",
    "\n",
    "conn = pymysql.connect(\n",
    "    host=\"localhost\",  \n",
    "    user=\"root\", \n",
    "    password=\"12345678\", \n",
    "    database=\"agrinexus_db\"  \n",
    ")\n",
    "cursor = conn.cursor()"
   ]
  },
  {
   "cell_type": "code",
   "execution_count": null,
   "id": "cda04872-a45b-4e36-a6b1-fd9a84bad9b9",
   "metadata": {},
   "outputs": [],
   "source": [
    "conn = pymysql.connect(\n",
    "    host=\"mysql.server.com\", \n",
    "    user=\"you_par_cloud_user\",\n",
    "    password=\"your_cloudssword\",\n",
    "    database=\"your_cloud_db\"\n",
    ")"
   ]
  },
  {
   "cell_type": "code",
   "execution_count": 6,
   "id": "6dfd2bfb-c055-4ce7-818d-b8aa0991542b",
   "metadata": {},
   "outputs": [
    {
     "name": "stdout",
     "output_type": "stream",
     "text": [
      "Requirement already satisfied: pymysql in c:\\users\\piyush\\anaconda3\\lib\\site-packages (1.1.1)\n",
      "Requirement already satisfied: fastapi in c:\\users\\piyush\\anaconda3\\lib\\site-packages (0.115.8)\n",
      "Requirement already satisfied: uvicorn in c:\\users\\piyush\\anaconda3\\lib\\site-packages (0.34.0)\n",
      "Requirement already satisfied: starlette<0.46.0,>=0.40.0 in c:\\users\\piyush\\anaconda3\\lib\\site-packages (from fastapi) (0.45.3)\n",
      "Requirement already satisfied: pydantic!=1.8,!=1.8.1,!=2.0.0,!=2.0.1,!=2.1.0,<3.0.0,>=1.7.4 in c:\\users\\piyush\\anaconda3\\lib\\site-packages (from fastapi) (2.5.3)\n",
      "Requirement already satisfied: typing-extensions>=4.8.0 in c:\\users\\piyush\\anaconda3\\lib\\site-packages (from fastapi) (4.11.0)\n",
      "Requirement already satisfied: click>=7.0 in c:\\users\\piyush\\anaconda3\\lib\\site-packages (from uvicorn) (8.1.7)\n",
      "Requirement already satisfied: h11>=0.8 in c:\\users\\piyush\\anaconda3\\lib\\site-packages (from uvicorn) (0.14.0)\n",
      "Requirement already satisfied: colorama in c:\\users\\piyush\\anaconda3\\lib\\site-packages (from click>=7.0->uvicorn) (0.4.6)\n",
      "Requirement already satisfied: annotated-types>=0.4.0 in c:\\users\\piyush\\anaconda3\\lib\\site-packages (from pydantic!=1.8,!=1.8.1,!=2.0.0,!=2.0.1,!=2.1.0,<3.0.0,>=1.7.4->fastapi) (0.6.0)\n",
      "Requirement already satisfied: pydantic-core==2.14.6 in c:\\users\\piyush\\anaconda3\\lib\\site-packages (from pydantic!=1.8,!=1.8.1,!=2.0.0,!=2.0.1,!=2.1.0,<3.0.0,>=1.7.4->fastapi) (2.14.6)\n",
      "Requirement already satisfied: anyio<5,>=3.6.2 in c:\\users\\piyush\\anaconda3\\lib\\site-packages (from starlette<0.46.0,>=0.40.0->fastapi) (4.2.0)\n",
      "Requirement already satisfied: idna>=2.8 in c:\\users\\piyush\\anaconda3\\lib\\site-packages (from anyio<5,>=3.6.2->starlette<0.46.0,>=0.40.0->fastapi) (3.7)\n",
      "Requirement already satisfied: sniffio>=1.1 in c:\\users\\piyush\\anaconda3\\lib\\site-packages (from anyio<5,>=3.6.2->starlette<0.46.0,>=0.40.0->fastapi) (1.3.0)\n",
      "Note: you may need to restart the kernel to use updated packages.\n"
     ]
    }
   ],
   "source": [
    "pip install pymysql fastapi uvicorn\n"
   ]
  },
  {
   "cell_type": "code",
   "execution_count": 1,
   "id": "962fee85-50c3-483b-8ebc-16b122aa1ba5",
   "metadata": {},
   "outputs": [],
   "source": [
    "from fastapi import FastAPI, Depends\n",
    "import pymysql\n",
    "from pymysql.cursors import DictCursor\n",
    "\n",
    "app = FastAPI()\n",
    "HOST = \"localhost\" \n",
    "USER = \"root\"  \n",
    "PASSWORD = \"12345678\" \n",
    "DATABASE = \"agrinexus_db\"  \n",
    "\n",
    "\n",
    "def get_db_connection():\n",
    "    connection = pymysql.connect(\n",
    "        host=HOST,\n",
    "        user=USER,\n",
    "        password=PASSWORD,\n",
    "        database=DATABASE,\n",
    "        cursorclass=DictCursor \n",
    "    )\n",
    "    return connection\n",
    "\n",
    "@app.get(\"/\")\n",
    "def read_root():\n",
    "    connection = get_db_connection()\n",
    "    try:\n",
    "        with connection.cursor() as cursor:\n",
    "           \n",
    "            cursor.execute(\"SELECT * FROM your_table LIMIT 10;\")\n",
    "            result = cursor.fetchall()  \n",
    "        return {\"data\": result}\n",
    "    finally:\n",
    "        connection.close() "
   ]
  }
 ],
 "metadata": {
  "kernelspec": {
   "display_name": "Python 3 (ipykernel)",
   "language": "python",
   "name": "python3"
  },
  "language_info": {
   "codemirror_mode": {
    "name": "ipython",
    "version": 3
   },
   "file_extension": ".py",
   "mimetype": "text/x-python",
   "name": "python",
   "nbconvert_exporter": "python",
   "pygments_lexer": "ipython3",
   "version": "3.12.4"
  }
 },
 "nbformat": 4,
 "nbformat_minor": 5
}
